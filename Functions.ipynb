{
 "cells": [
  {
   "cell_type": "markdown",
   "metadata": {},
   "source": [
    "# Function in Details\n",
    "\n",
    "---"
   ]
  },
  {
   "cell_type": "markdown",
   "metadata": {},
   "source": [
    "* Functions can have **more than one** parameter:\n",
    "\n"
   ]
  },
  {
   "cell_type": "code",
   "execution_count": null,
   "metadata": {},
   "outputs": [],
   "source": [
    "def volume(a, b, c):\n",
    "    return a * b * c"
   ]
  },
  {
   "cell_type": "markdown",
   "metadata": {},
   "source": [
    "* Functions can have default **parameters** (e.g. coefficient):\n",
    "\n"
   ]
  },
  {
   "cell_type": "code",
   "execution_count": 1,
   "metadata": {},
   "outputs": [
    {
     "name": "stdout",
     "output_type": "stream",
     "text": [
      "3.0480370641306997\n"
     ]
    }
   ],
   "source": [
    "def converter(feet, coefficient = 3.2808):\n",
    "    meters = feet / coefficient\n",
    "    return meters\n",
    " \n",
    "print(converter(10))"
   ]
  },
  {
   "cell_type": "markdown",
   "metadata": {},
   "source": [
    "Arguments can be passed as **non-keyword** (positional) arguments (e.g. a) or **keyword** arguments (e.g. ```b=2``` and ```c=10```):"
   ]
  },
  {
   "cell_type": "code",
   "execution_count": null,
   "metadata": {},
   "outputs": [],
   "source": [
    "def volume(a, b, c):\n",
    "    return a * b * c\n",
    " \n",
    "print(volume(1, b=2, c=10))\n"
   ]
  },
  {
   "cell_type": "markdown",
   "metadata": {},
   "source": [
    "* An ***args** parameter allows the  function to be called with an arbitrary number of non-keyword arguments:"
   ]
  },
  {
   "cell_type": "code",
   "execution_count": 2,
   "metadata": {},
   "outputs": [
    {
     "name": "stdout",
     "output_type": "stream",
     "text": [
      "1001\n"
     ]
    }
   ],
   "source": [
    "def find_max(*args):\n",
    "    return max(args)\n",
    "print(find_max(3, 99, 1001, 2, 8))"
   ]
  },
  {
   "cell_type": "markdown",
   "metadata": {},
   "source": [
    "* An ****kwargs** parameter allows the function to be called with an arbitrary number of keyword arguments:"
   ]
  },
  {
   "cell_type": "code",
   "execution_count": 3,
   "metadata": {},
   "outputs": [
    {
     "name": "stdout",
     "output_type": "stream",
     "text": [
      "Sim\n"
     ]
    }
   ],
   "source": [
    "def find_winner(**kwargs):\n",
    "    return max(kwargs, key = kwargs.get)\n",
    " \n",
    "print(find_winner(Andy = 17, Marry = 19, Sim = 45, Kae = 34))"
   ]
  },
  {
   "cell_type": "markdown",
   "metadata": {},
   "source": [
    "* Here's a summary of **function elements**:\n",
    "\n"
   ]
  },
  {
   "cell_type": "markdown",
   "metadata": {},
   "source": [
    "[Function element](https://udemy-images.s3.amazonaws.com/redactor/raw/2019-07-24_19-07-36-0d306e1785ef65d50aeb204567dfb62f.png)"
   ]
  }
 ],
 "metadata": {
  "kernelspec": {
   "display_name": "Python 3",
   "language": "python",
   "name": "python3"
  },
  "language_info": {
   "codemirror_mode": {
    "name": "ipython",
    "version": 3
   },
   "file_extension": ".py",
   "mimetype": "text/x-python",
   "name": "python",
   "nbconvert_exporter": "python",
   "pygments_lexer": "ipython3",
   "version": "3.7.4"
  }
 },
 "nbformat": 4,
 "nbformat_minor": 2
}
