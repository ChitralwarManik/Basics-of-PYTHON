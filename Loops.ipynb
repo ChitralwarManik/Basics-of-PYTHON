{
 "cells": [
  {
   "cell_type": "markdown",
   "metadata": {},
   "source": [
    "# Loops \n",
    "\n",
    "---"
   ]
  },
  {
   "cell_type": "markdown",
   "metadata": {},
   "source": [
    "## In this section we will see loops in python:"
   ]
  },
  {
   "cell_type": "markdown",
   "metadata": {},
   "source": [
    "* **For loops** are useful for executing a command over a large number of items."
   ]
  },
  {
   "cell_type": "markdown",
   "metadata": {},
   "source": [
    "* You can create a **for loop** like so:\n",
    "\n"
   ]
  },
  {
   "cell_type": "code",
   "execution_count": 1,
   "metadata": {},
   "outputs": [
    {
     "name": "stdout",
     "output_type": "stream",
     "text": [
      "A\n",
      "B\n",
      "C\n"
     ]
    }
   ],
   "source": [
    "for letter in 'abc':\n",
    "    print(letter.upper())"
   ]
  },
  {
   "cell_type": "markdown",
   "metadata": {},
   "source": [
    "* The name after ```for``` (e.g. ```letter```) is just a variable name\n",
    "\n"
   ]
  },
  {
   "cell_type": "markdown",
   "metadata": {},
   "source": [
    "* You can loop over **dictionary keys**:\n",
    "\n"
   ]
  },
  {
   "cell_type": "code",
   "execution_count": 5,
   "metadata": {},
   "outputs": [
    {
     "name": "stdout",
     "output_type": "stream",
     "text": [
      "Manik chitralwar\n",
      "Swapnil chilim\n"
     ]
    }
   ],
   "source": [
    "phone_numbers = {\"Manik chitralwar\":\"+37682929928\",\"Swapnil chilim\":\"+423998200919\"}\n",
    "for value in phone_numbers.keys():\n",
    "    print(value)"
   ]
  },
  {
   "cell_type": "markdown",
   "metadata": {},
   "source": [
    "Output:\n",
    "\n",
    "```Manik chitralwar\n",
    " Swapnil chilim```"
   ]
  },
  {
   "cell_type": "markdown",
   "metadata": {},
   "source": [
    "* You can loop over **dictionary values**:\n",
    "\n"
   ]
  },
  {
   "cell_type": "code",
   "execution_count": 7,
   "metadata": {},
   "outputs": [
    {
     "name": "stdout",
     "output_type": "stream",
     "text": [
      "+37682929928\n",
      "+423998200919\n"
     ]
    }
   ],
   "source": [
    "phone_numbers = {\"Manik chitralwar\":\"+37682929928\",\"Swapnil chilim\":\"+423998200919\"}\n",
    "for value in phone_numbers.values():\n",
    "    print(value)"
   ]
  },
  {
   "cell_type": "markdown",
   "metadata": {},
   "source": [
    "* You can loop over **dictionary items**:\n",
    "\n"
   ]
  },
  {
   "cell_type": "code",
   "execution_count": 8,
   "metadata": {},
   "outputs": [
    {
     "name": "stdout",
     "output_type": "stream",
     "text": [
      "('Manik chitralwar', '+37682929928')\n",
      "('Swapnil chilim', '+423998200919')\n"
     ]
    }
   ],
   "source": [
    "phone_numbers = {\"Manik chitralwar\":\"+37682929928\",\"Swapnil chilim\":\"+423998200919\"}\n",
    "for value in phone_numbers.items():\n",
    "    print(value)"
   ]
  },
  {
   "cell_type": "markdown",
   "metadata": {},
   "source": [
    "* **While loops** will run as long as a condition is true:\n",
    "\n"
   ]
  },
  {
   "cell_type": "code",
   "execution_count": null,
   "metadata": {},
   "outputs": [],
   "source": [
    "while datetime.datetime.now() < datetime.datetime(2090, 8, 20, 19, 30, 20):\n",
    "    print(\"It's not yet 19:30:20 of 2090.8.20\")"
   ]
  },
  {
   "cell_type": "markdown",
   "metadata": {},
   "source": [
    "* The loop above will print out the string inside print() over and over again until the 20th of August, 2090."
   ]
  },
  {
   "cell_type": "code",
   "execution_count": null,
   "metadata": {},
   "outputs": [],
   "source": []
  }
 ],
 "metadata": {
  "kernelspec": {
   "display_name": "Python 3",
   "language": "python",
   "name": "python3"
  },
  "language_info": {
   "codemirror_mode": {
    "name": "ipython",
    "version": 3
   },
   "file_extension": ".py",
   "mimetype": "text/x-python",
   "name": "python",
   "nbconvert_exporter": "python",
   "pygments_lexer": "ipython3",
   "version": "3.7.4"
  }
 },
 "nbformat": 4,
 "nbformat_minor": 2
}
